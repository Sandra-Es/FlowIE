{
 "cells": [
  {
   "cell_type": "markdown",
   "id": "d0389817",
   "metadata": {},
   "source": [
    "### Train-Val Split"
   ]
  },
  {
   "cell_type": "code",
   "execution_count": 6,
   "id": "e90bafb1",
   "metadata": {},
   "outputs": [
    {
     "data": {
      "text/plain": [
       "3000"
      ]
     },
     "execution_count": 6,
     "metadata": {},
     "output_type": "execute_result"
    }
   ],
   "source": [
    "path = \"dataset/list/celeba/train.list\"\n",
    "\n",
    "import os\n",
    "import random\n",
    "with open(path, \"r\") as f:\n",
    "    info = f.readlines()\n",
    "\n",
    "len(info)"
   ]
  },
  {
   "cell_type": "code",
   "execution_count": 13,
   "id": "a989de41",
   "metadata": {},
   "outputs": [
    {
     "name": "stdout",
     "output_type": "stream",
     "text": [
      "Train Samples : 2250\n",
      "Val Samples: 750\n"
     ]
    }
   ],
   "source": [
    "def train_val_split(paths, train_perc=0.75):\n",
    "\n",
    "    random.shuffle(paths)\n",
    "\n",
    "    n_train = int(train_perc * len(paths))\n",
    "\n",
    "    train_paths = paths[:n_train]\n",
    "    val_paths = paths[n_train:]\n",
    "\n",
    "    print(f\"Train Samples : {len(train_paths)}\\nVal Samples: {len(val_paths)}\")\n",
    "\n",
    "    return train_paths, val_paths\n",
    "\n",
    "def save_as_txt(info, path, add_new_line=True):\n",
    "\n",
    "    join_s = \"\\n\" if add_new_line else \"\"\n",
    "\n",
    "    with open(path, \"w\") as f:\n",
    "        f.write(join_s.join(info) + join_s)\n",
    "\n",
    "trains, vals = train_val_split(info)"
   ]
  },
  {
   "cell_type": "code",
   "execution_count": 15,
   "id": "6fc79cae",
   "metadata": {},
   "outputs": [],
   "source": [
    "train_path = os.path.join(os.path.dirname(path), \"train_split.list\")\n",
    "val_path = os.path.join(os.path.dirname(path), \"val_split.list\")\n",
    "\n",
    "\n",
    "save_as_txt(trains, train_path, add_new_line=False)\n",
    "save_as_txt(vals, val_path, add_new_line=False)"
   ]
  },
  {
   "cell_type": "code",
   "execution_count": null,
   "id": "d882a6e4",
   "metadata": {},
   "outputs": [],
   "source": []
  }
 ],
 "metadata": {
  "kernelspec": {
   "display_name": "flowie",
   "language": "python",
   "name": "python3"
  },
  "language_info": {
   "codemirror_mode": {
    "name": "ipython",
    "version": 3
   },
   "file_extension": ".py",
   "mimetype": "text/x-python",
   "name": "python",
   "nbconvert_exporter": "python",
   "pygments_lexer": "ipython3",
   "version": "3.9.23"
  }
 },
 "nbformat": 4,
 "nbformat_minor": 5
}
